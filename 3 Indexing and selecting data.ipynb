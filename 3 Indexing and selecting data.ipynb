{
 "cells": [
  {
   "cell_type": "code",
   "execution_count": 3,
   "metadata": {},
   "outputs": [],
   "source": [
    "import pandas as pd\n",
    "import numpy as np"
   ]
  },
  {
   "cell_type": "markdown",
   "metadata": {},
   "source": [
    "pandas indexing 방법은 크게 <font color=red>. operator</font>와 <font color=red>[] opeartor</font>로 나뉜다.<br>\n",
    "[] 연산자는 pyyhon에서 광범위하게 사용되는 연산자이며, . 연산자는 보다 편리한 인덱싱 기능을 제공한다.<br><br>\n",
    ". 연산자는 다시 .iloc와 .loc 연산자로 나뉜다.<br>\n",
    "<table align=\"left\", font_size=\"80%\">\n",
    "  <tr>\n",
    "    <th style=\"text-align: left\", width=\"20%\">Operator</th>\n",
    "    <th style=\"text-align: left\", width=\"40%\">Usage</th>\n",
    "    <th style=\"text-align: left\", width=\"50%\">Sample</th>\n",
    "  </tr>\n",
    "  <tr>\n",
    "    <td style=\"text-align: center\">[]</td>\n",
    "    <td style=\"text-align: left\">Column indexing, Row indexing</td>\n",
    "    <td style=\"text-align: left\">df_sample[\"Col_A\"] / df_sample[1:4]</td>\n",
    "  </tr>\n",
    "  <tr>\n",
    "    <td style=\"text-align: center\">.iloc</td>\n",
    "    <td style=\"text-align: left\">Row indexing by row order</td>\n",
    "    <td style=\"text-align: left\">df_result.iloc[:10]</td>\n",
    "  </tr>\n",
    "  <tr>\n",
    "    <td style=\"text-align: center\">.loc</td>\n",
    "    <td style=\"text-align: left\">Row indexing by index name</td>\n",
    "    <td style=\"text-align: left\">df_result.loc[\"a\":\"f\"]</td>\n",
    "  </tr>    \n",
    "</table>"
   ]
  },
  {
   "cell_type": "markdown",
   "metadata": {},
   "source": [
    "#### 0. Selection by callable"
   ]
  },
  {
   "cell_type": "markdown",
   "metadata": {},
   "source": [
    "<h3>Different choices for indexing</h3><br>"
   ]
  },
  {
   "cell_type": "markdown",
   "metadata": {},
   "source": [
    "#### 0. Indexing with [] : 저차원 slice 반환\n",
    "| Object Type | Indexers | Return Value Type |\n",
    "| :- | :- | :- |\n",
    "| Series | series[label] | scalar value |\n",
    "| DataFrame | frame[colname] | Series corresponding to colname |"
   ]
  },
  {
   "cell_type": "code",
   "execution_count": 12,
   "metadata": {},
   "outputs": [
    {
     "data": {
      "text/html": [
       "<div>\n",
       "<style scoped>\n",
       "    .dataframe tbody tr th:only-of-type {\n",
       "        vertical-align: middle;\n",
       "    }\n",
       "\n",
       "    .dataframe tbody tr th {\n",
       "        vertical-align: top;\n",
       "    }\n",
       "\n",
       "    .dataframe thead th {\n",
       "        text-align: right;\n",
       "    }\n",
       "</style>\n",
       "<table border=\"1\" class=\"dataframe\">\n",
       "  <thead>\n",
       "    <tr style=\"text-align: right;\">\n",
       "      <th></th>\n",
       "      <th>A</th>\n",
       "      <th>B</th>\n",
       "      <th>C</th>\n",
       "      <th>D</th>\n",
       "    </tr>\n",
       "  </thead>\n",
       "  <tbody>\n",
       "    <tr>\n",
       "      <th>2000-01-01</th>\n",
       "      <td>-1.954537</td>\n",
       "      <td>0.528818</td>\n",
       "      <td>0.460206</td>\n",
       "      <td>0.179894</td>\n",
       "    </tr>\n",
       "    <tr>\n",
       "      <th>2000-01-02</th>\n",
       "      <td>0.352191</td>\n",
       "      <td>-0.291922</td>\n",
       "      <td>-0.321364</td>\n",
       "      <td>0.095369</td>\n",
       "    </tr>\n",
       "    <tr>\n",
       "      <th>2000-01-03</th>\n",
       "      <td>0.964970</td>\n",
       "      <td>-0.359735</td>\n",
       "      <td>-0.180520</td>\n",
       "      <td>-0.100918</td>\n",
       "    </tr>\n",
       "    <tr>\n",
       "      <th>2000-01-04</th>\n",
       "      <td>-0.313732</td>\n",
       "      <td>0.024850</td>\n",
       "      <td>0.595347</td>\n",
       "      <td>1.359028</td>\n",
       "    </tr>\n",
       "    <tr>\n",
       "      <th>2000-01-05</th>\n",
       "      <td>1.396024</td>\n",
       "      <td>2.192548</td>\n",
       "      <td>-2.010051</td>\n",
       "      <td>0.645951</td>\n",
       "    </tr>\n",
       "    <tr>\n",
       "      <th>2000-01-06</th>\n",
       "      <td>-0.766655</td>\n",
       "      <td>-1.088562</td>\n",
       "      <td>-1.176056</td>\n",
       "      <td>-0.821264</td>\n",
       "    </tr>\n",
       "    <tr>\n",
       "      <th>2000-01-07</th>\n",
       "      <td>-1.420023</td>\n",
       "      <td>-0.493559</td>\n",
       "      <td>-0.766238</td>\n",
       "      <td>-0.219082</td>\n",
       "    </tr>\n",
       "    <tr>\n",
       "      <th>2000-01-08</th>\n",
       "      <td>0.947972</td>\n",
       "      <td>0.292568</td>\n",
       "      <td>-0.542353</td>\n",
       "      <td>-1.200662</td>\n",
       "    </tr>\n",
       "  </tbody>\n",
       "</table>\n",
       "</div>"
      ],
      "text/plain": [
       "                   A         B         C         D\n",
       "2000-01-01 -1.954537  0.528818  0.460206  0.179894\n",
       "2000-01-02  0.352191 -0.291922 -0.321364  0.095369\n",
       "2000-01-03  0.964970 -0.359735 -0.180520 -0.100918\n",
       "2000-01-04 -0.313732  0.024850  0.595347  1.359028\n",
       "2000-01-05  1.396024  2.192548 -2.010051  0.645951\n",
       "2000-01-06 -0.766655 -1.088562 -1.176056 -0.821264\n",
       "2000-01-07 -1.420023 -0.493559 -0.766238 -0.219082\n",
       "2000-01-08  0.947972  0.292568 -0.542353 -1.200662"
      ]
     },
     "execution_count": 12,
     "metadata": {},
     "output_type": "execute_result"
    }
   ],
   "source": [
    "dates = pd.date_range('1/1/2000', periods=8)\n",
    "\n",
    "df = pd.DataFrame(np.random.randn(8, 4),\n",
    "                  index=dates, columns=['A', 'B', 'C', 'D'])\n",
    "\n",
    "df"
   ]
  },
  {
   "cell_type": "code",
   "execution_count": 25,
   "metadata": {},
   "outputs": [
    {
     "data": {
      "text/plain": [
       "2000-01-01   -1.954537\n",
       "2000-01-02    0.352191\n",
       "2000-01-03    0.964970\n",
       "2000-01-04   -0.313732\n",
       "2000-01-05    1.396024\n",
       "2000-01-06   -0.766655\n",
       "2000-01-07   -1.420023\n",
       "2000-01-08    0.947972\n",
       "Freq: D, Name: A, dtype: float64"
      ]
     },
     "execution_count": 25,
     "metadata": {},
     "output_type": "execute_result"
    }
   ],
   "source": [
    "# DataFrame을 []로 indexing할 경우 -> Series 반영\n",
    "df_to_series = df[\"A\"]\n",
    "df_to_series"
   ]
  },
  {
   "cell_type": "code",
   "execution_count": 26,
   "metadata": {},
   "outputs": [
    {
     "data": {
      "text/plain": [
       "-1.9545368446182174"
      ]
     },
     "execution_count": 26,
     "metadata": {},
     "output_type": "execute_result"
    }
   ],
   "source": [
    "# Series를 []로 indexing할 경우 -> scalar 반영\n",
    "series_to_scalar = df_to_series[\"2000-01-01\"]\n",
    "series_to_scalar"
   ]
  },
  {
   "cell_type": "code",
   "execution_count": 29,
   "metadata": {},
   "outputs": [
    {
     "data": {
      "text/html": [
       "<div>\n",
       "<style scoped>\n",
       "    .dataframe tbody tr th:only-of-type {\n",
       "        vertical-align: middle;\n",
       "    }\n",
       "\n",
       "    .dataframe tbody tr th {\n",
       "        vertical-align: top;\n",
       "    }\n",
       "\n",
       "    .dataframe thead th {\n",
       "        text-align: right;\n",
       "    }\n",
       "</style>\n",
       "<table border=\"1\" class=\"dataframe\">\n",
       "  <thead>\n",
       "    <tr style=\"text-align: right;\">\n",
       "      <th></th>\n",
       "      <th>A</th>\n",
       "      <th>B</th>\n",
       "      <th>C</th>\n",
       "      <th>D</th>\n",
       "    </tr>\n",
       "  </thead>\n",
       "  <tbody>\n",
       "    <tr>\n",
       "      <th>2000-01-03</th>\n",
       "      <td>0.964970</td>\n",
       "      <td>-0.359735</td>\n",
       "      <td>-0.180520</td>\n",
       "      <td>-0.100918</td>\n",
       "    </tr>\n",
       "    <tr>\n",
       "      <th>2000-01-04</th>\n",
       "      <td>-0.313732</td>\n",
       "      <td>0.024850</td>\n",
       "      <td>0.595347</td>\n",
       "      <td>1.359028</td>\n",
       "    </tr>\n",
       "    <tr>\n",
       "      <th>2000-01-05</th>\n",
       "      <td>1.396024</td>\n",
       "      <td>2.192548</td>\n",
       "      <td>-2.010051</td>\n",
       "      <td>0.645951</td>\n",
       "    </tr>\n",
       "  </tbody>\n",
       "</table>\n",
       "</div>"
      ],
      "text/plain": [
       "                   A         B         C         D\n",
       "2000-01-03  0.964970 -0.359735 -0.180520 -0.100918\n",
       "2000-01-04 -0.313732  0.024850  0.595347  1.359028\n",
       "2000-01-05  1.396024  2.192548 -2.010051  0.645951"
      ]
     },
     "execution_count": 29,
     "metadata": {},
     "output_type": "execute_result"
    }
   ],
   "source": [
    "# 물론 인자에 1개 이상의 값을 넣으면 저차원 x\n",
    "df[2:5]"
   ]
  },
  {
   "cell_type": "code",
   "execution_count": 30,
   "metadata": {},
   "outputs": [
    {
     "data": {
      "text/html": [
       "<div>\n",
       "<style scoped>\n",
       "    .dataframe tbody tr th:only-of-type {\n",
       "        vertical-align: middle;\n",
       "    }\n",
       "\n",
       "    .dataframe tbody tr th {\n",
       "        vertical-align: top;\n",
       "    }\n",
       "\n",
       "    .dataframe thead th {\n",
       "        text-align: right;\n",
       "    }\n",
       "</style>\n",
       "<table border=\"1\" class=\"dataframe\">\n",
       "  <thead>\n",
       "    <tr style=\"text-align: right;\">\n",
       "      <th></th>\n",
       "      <th>A</th>\n",
       "      <th>B</th>\n",
       "    </tr>\n",
       "  </thead>\n",
       "  <tbody>\n",
       "    <tr>\n",
       "      <th>2000-01-01</th>\n",
       "      <td>-1.954537</td>\n",
       "      <td>0.528818</td>\n",
       "    </tr>\n",
       "    <tr>\n",
       "      <th>2000-01-02</th>\n",
       "      <td>0.352191</td>\n",
       "      <td>-0.291922</td>\n",
       "    </tr>\n",
       "    <tr>\n",
       "      <th>2000-01-03</th>\n",
       "      <td>0.964970</td>\n",
       "      <td>-0.359735</td>\n",
       "    </tr>\n",
       "    <tr>\n",
       "      <th>2000-01-04</th>\n",
       "      <td>-0.313732</td>\n",
       "      <td>0.024850</td>\n",
       "    </tr>\n",
       "    <tr>\n",
       "      <th>2000-01-05</th>\n",
       "      <td>1.396024</td>\n",
       "      <td>2.192548</td>\n",
       "    </tr>\n",
       "    <tr>\n",
       "      <th>2000-01-06</th>\n",
       "      <td>-0.766655</td>\n",
       "      <td>-1.088562</td>\n",
       "    </tr>\n",
       "    <tr>\n",
       "      <th>2000-01-07</th>\n",
       "      <td>-1.420023</td>\n",
       "      <td>-0.493559</td>\n",
       "    </tr>\n",
       "    <tr>\n",
       "      <th>2000-01-08</th>\n",
       "      <td>0.947972</td>\n",
       "      <td>0.292568</td>\n",
       "    </tr>\n",
       "  </tbody>\n",
       "</table>\n",
       "</div>"
      ],
      "text/plain": [
       "                   A         B\n",
       "2000-01-01 -1.954537  0.528818\n",
       "2000-01-02  0.352191 -0.291922\n",
       "2000-01-03  0.964970 -0.359735\n",
       "2000-01-04 -0.313732  0.024850\n",
       "2000-01-05  1.396024  2.192548\n",
       "2000-01-06 -0.766655 -1.088562\n",
       "2000-01-07 -1.420023 -0.493559\n",
       "2000-01-08  0.947972  0.292568"
      ]
     },
     "execution_count": 30,
     "metadata": {},
     "output_type": "execute_result"
    }
   ],
   "source": [
    "df[[\"A\", \"B\"]]"
   ]
  },
  {
   "cell_type": "markdown",
   "metadata": {},
   "source": [
    "#### 1. loc : Indexing with boolean array\n",
    "- klkk"
   ]
  },
  {
   "cell_type": "markdown",
   "metadata": {},
   "source": [
    "#### 0. Different choices for indexing"
   ]
  },
  {
   "cell_type": "code",
   "execution_count": 33,
   "metadata": {},
   "outputs": [
    {
     "data": {
      "text/html": [
       "<div>\n",
       "<style scoped>\n",
       "    .dataframe tbody tr th:only-of-type {\n",
       "        vertical-align: middle;\n",
       "    }\n",
       "\n",
       "    .dataframe tbody tr th {\n",
       "        vertical-align: top;\n",
       "    }\n",
       "\n",
       "    .dataframe thead th {\n",
       "        text-align: right;\n",
       "    }\n",
       "</style>\n",
       "<table border=\"1\" class=\"dataframe\">\n",
       "  <thead>\n",
       "    <tr style=\"text-align: right;\">\n",
       "      <th></th>\n",
       "      <th>index</th>\n",
       "      <th>A</th>\n",
       "      <th>B</th>\n",
       "      <th>C</th>\n",
       "      <th>D</th>\n",
       "    </tr>\n",
       "  </thead>\n",
       "  <tbody>\n",
       "    <tr>\n",
       "      <th>0</th>\n",
       "      <td>2000-01-01</td>\n",
       "      <td>-1.954537</td>\n",
       "      <td>0.528818</td>\n",
       "      <td>0.460206</td>\n",
       "      <td>0.179894</td>\n",
       "    </tr>\n",
       "    <tr>\n",
       "      <th>1</th>\n",
       "      <td>2000-01-02</td>\n",
       "      <td>0.352191</td>\n",
       "      <td>-0.291922</td>\n",
       "      <td>-0.321364</td>\n",
       "      <td>0.095369</td>\n",
       "    </tr>\n",
       "    <tr>\n",
       "      <th>2</th>\n",
       "      <td>2000-01-03</td>\n",
       "      <td>0.964970</td>\n",
       "      <td>-0.359735</td>\n",
       "      <td>-0.180520</td>\n",
       "      <td>-0.100918</td>\n",
       "    </tr>\n",
       "    <tr>\n",
       "      <th>3</th>\n",
       "      <td>2000-01-04</td>\n",
       "      <td>-0.313732</td>\n",
       "      <td>0.024850</td>\n",
       "      <td>0.595347</td>\n",
       "      <td>1.359028</td>\n",
       "    </tr>\n",
       "    <tr>\n",
       "      <th>4</th>\n",
       "      <td>2000-01-05</td>\n",
       "      <td>1.396024</td>\n",
       "      <td>2.192548</td>\n",
       "      <td>-2.010051</td>\n",
       "      <td>0.645951</td>\n",
       "    </tr>\n",
       "    <tr>\n",
       "      <th>5</th>\n",
       "      <td>2000-01-06</td>\n",
       "      <td>-0.766655</td>\n",
       "      <td>-1.088562</td>\n",
       "      <td>-1.176056</td>\n",
       "      <td>-0.821264</td>\n",
       "    </tr>\n",
       "  </tbody>\n",
       "</table>\n",
       "</div>"
      ],
      "text/plain": [
       "       index         A         B         C         D\n",
       "0 2000-01-01 -1.954537  0.528818  0.460206  0.179894\n",
       "1 2000-01-02  0.352191 -0.291922 -0.321364  0.095369\n",
       "2 2000-01-03  0.964970 -0.359735 -0.180520 -0.100918\n",
       "3 2000-01-04 -0.313732  0.024850  0.595347  1.359028\n",
       "4 2000-01-05  1.396024  2.192548 -2.010051  0.645951\n",
       "5 2000-01-06 -0.766655 -1.088562 -1.176056 -0.821264"
      ]
     },
     "execution_count": 33,
     "metadata": {},
     "output_type": "execute_result"
    }
   ],
   "source": [
    "df.reset_index().loc[:5]"
   ]
  },
  {
   "cell_type": "code",
   "execution_count": null,
   "metadata": {},
   "outputs": [],
   "source": []
  }
 ],
 "metadata": {
  "kernelspec": {
   "display_name": "Python 3",
   "language": "python",
   "name": "python3"
  },
  "language_info": {
   "codemirror_mode": {
    "name": "ipython",
    "version": 3
   },
   "file_extension": ".py",
   "mimetype": "text/x-python",
   "name": "python",
   "nbconvert_exporter": "python",
   "pygments_lexer": "ipython3",
   "version": "3.8.5"
  }
 },
 "nbformat": 4,
 "nbformat_minor": 4
}
