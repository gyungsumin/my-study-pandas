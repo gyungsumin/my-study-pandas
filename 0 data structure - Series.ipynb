{
 "cells": [
  {
   "cell_type": "code",
   "execution_count": 1,
   "metadata": {},
   "outputs": [],
   "source": [
    "import pandas as pd\n",
    "import numpy as np"
   ]
  },
  {
   "cell_type": "markdown",
   "metadata": {},
   "source": [
    "<h3>Series</h3><br>\n",
    "Series is a one-dimensional labeled array capable of holding any data type (integers, strings, floating point numbers, Python objects, etc.). The axis labels are collectively referred to as the index. The basic method to create a Series is to call\n",
    "\n",
    "\n",
    "s = pd.Series(data, index=index)"
   ]
  },
  {
   "cell_type": "markdown",
   "metadata": {},
   "source": [
    "#### 0. Series 만들기\n",
    "\n",
    "1차원 배열인 Series는 모든 datatype을 포함할 수 있다.<br>\n",
    "python dict, ndarray, scalar value 등을 Series 객체로 만들 수 있다."
   ]
  },
  {
   "cell_type": "code",
   "execution_count": 4,
   "metadata": {},
   "outputs": [
    {
     "name": "stdout",
     "output_type": "stream",
     "text": [
      "[ 0.75949753  1.13258899  2.46666765 -0.18670409 -0.1203249 ]\n"
     ]
    }
   ],
   "source": [
    "# ndarray를 Series로\n",
    "data = np.random.randn(5)\n",
    "print(data)"
   ]
  },
  {
   "cell_type": "code",
   "execution_count": 10,
   "metadata": {},
   "outputs": [
    {
     "data": {
      "text/plain": [
       "0    0.759498\n",
       "1    1.132589\n",
       "2    2.466668\n",
       "3   -0.186704\n",
       "4   -0.120325\n",
       "dtype: float64"
      ]
     },
     "execution_count": 10,
     "metadata": {},
     "output_type": "execute_result"
    }
   ],
   "source": [
    "s = pd.Series(data)\n",
    "s"
   ]
  },
  {
   "cell_type": "code",
   "execution_count": 16,
   "metadata": {},
   "outputs": [
    {
     "data": {
      "text/plain": [
       "Index(['a', 'b', 'c', 'd', 'e'], dtype='object')"
      ]
     },
     "execution_count": 16,
     "metadata": {},
     "output_type": "execute_result"
    }
   ],
   "source": [
    "# pandas에서는 행을 index라고 부른다.\n",
    "s.index"
   ]
  },
  {
   "cell_type": "code",
   "execution_count": 14,
   "metadata": {},
   "outputs": [
    {
     "data": {
      "text/plain": [
       "a   -0.309027\n",
       "b   -0.671117\n",
       "c   -0.555885\n",
       "d    0.270834\n",
       "e   -2.325941\n",
       "dtype: float64"
      ]
     },
     "execution_count": 14,
     "metadata": {},
     "output_type": "execute_result"
    }
   ],
   "source": [
    "# index를 부여할 수도 있다.\n",
    "s = pd.Series(np.random.randn(5), index=[\"a\", \"b\", \"c\", \"d\", \"e\"])\n",
    "s"
   ]
  },
  {
   "cell_type": "code",
   "execution_count": 15,
   "metadata": {},
   "outputs": [
    {
     "data": {
      "text/plain": [
       "Index(['a', 'b', 'c', 'd', 'e'], dtype='object')"
      ]
     },
     "execution_count": 15,
     "metadata": {},
     "output_type": "execute_result"
    }
   ],
   "source": [
    "s.index"
   ]
  },
  {
   "cell_type": "code",
   "execution_count": 21,
   "metadata": {},
   "outputs": [
    {
     "data": {
      "text/plain": [
       "a    0.0\n",
       "b    1.0\n",
       "c    2.0\n",
       "dtype: float64"
      ]
     },
     "execution_count": 21,
     "metadata": {},
     "output_type": "execute_result"
    }
   ],
   "source": [
    "# dict를 Series로\n",
    "d = {\"a\": 0.0, \"b\": 1.0, \"c\": 2.0}\n",
    "\n",
    "pd.Series(d)"
   ]
  },
  {
   "cell_type": "code",
   "execution_count": 23,
   "metadata": {},
   "outputs": [
    {
     "data": {
      "text/plain": [
       "b    1.0\n",
       "c    2.0\n",
       "d    NaN\n",
       "a    0.0\n",
       "dtype: float64"
      ]
     },
     "execution_count": 23,
     "metadata": {},
     "output_type": "execute_result"
    }
   ],
   "source": [
    "# 만약 index에 대응하는 dict key가 없다면 NaN 반환\n",
    "# NaN (not a number) is the standard missing data marker used in pandas.\n",
    "pd.Series(d, index=[\"b\", \"c\", \"d\", \"a\"])"
   ]
  },
  {
   "cell_type": "code",
   "execution_count": 24,
   "metadata": {},
   "outputs": [
    {
     "data": {
      "text/plain": [
       "a    5.0\n",
       "b    5.0\n",
       "c    5.0\n",
       "d    5.0\n",
       "e    5.0\n",
       "dtype: float64"
      ]
     },
     "execution_count": 24,
     "metadata": {},
     "output_type": "execute_result"
    }
   ],
   "source": [
    "# from scalar value\n",
    "pd.Series(5.0, index=[\"a\", \"b\", \"c\", \"d\", \"e\"])"
   ]
  },
  {
   "cell_type": "markdown",
   "metadata": {},
   "source": [
    "#### 1. Series indexing & slicing like as numpy ndarray"
   ]
  },
  {
   "cell_type": "code",
   "execution_count": 36,
   "metadata": {},
   "outputs": [
    {
     "data": {
      "text/plain": [
       "0    1.1\n",
       "1    1.2\n",
       "2    1.3\n",
       "3    1.4\n",
       "4    1.5\n",
       "dtype: float64"
      ]
     },
     "execution_count": 36,
     "metadata": {},
     "output_type": "execute_result"
    }
   ],
   "source": [
    "s = pd.Series(data=[1.1, 1.2, 1.3, 1.4, 1.5])\n",
    "s"
   ]
  },
  {
   "cell_type": "code",
   "execution_count": 39,
   "metadata": {},
   "outputs": [
    {
     "name": "stdout",
     "output_type": "stream",
     "text": [
      "1.1\n",
      "1.5\n"
     ]
    }
   ],
   "source": [
    "s[0]"
   ]
  },
  {
   "cell_type": "code",
   "execution_count": 40,
   "metadata": {},
   "outputs": [
    {
     "data": {
      "text/plain": [
       "0    1.1\n",
       "1    1.2\n",
       "2    1.3\n",
       "dtype: float64"
      ]
     },
     "execution_count": 40,
     "metadata": {},
     "output_type": "execute_result"
    }
   ],
   "source": [
    "s[:3]"
   ]
  },
  {
   "cell_type": "code",
   "execution_count": 41,
   "metadata": {},
   "outputs": [
    {
     "data": {
      "text/plain": [
       "1    1.2\n",
       "2    1.3\n",
       "dtype: float64"
      ]
     },
     "execution_count": 41,
     "metadata": {},
     "output_type": "execute_result"
    }
   ],
   "source": [
    "s[1:3]"
   ]
  },
  {
   "cell_type": "code",
   "execution_count": 42,
   "metadata": {},
   "outputs": [
    {
     "data": {
      "text/plain": [
       "3    1.4\n",
       "4    1.5\n",
       "dtype: float64"
      ]
     },
     "execution_count": 42,
     "metadata": {},
     "output_type": "execute_result"
    }
   ],
   "source": [
    "s[s > s.median()]"
   ]
  },
  {
   "cell_type": "code",
   "execution_count": 43,
   "metadata": {},
   "outputs": [
    {
     "data": {
      "text/plain": [
       "4    1.5\n",
       "3    1.4\n",
       "1    1.2\n",
       "dtype: float64"
      ]
     },
     "execution_count": 43,
     "metadata": {},
     "output_type": "execute_result"
    }
   ],
   "source": [
    "s[[4, 3, 1]]"
   ]
  },
  {
   "cell_type": "code",
   "execution_count": 44,
   "metadata": {},
   "outputs": [
    {
     "data": {
      "text/plain": [
       "dtype('float64')"
      ]
     },
     "execution_count": 44,
     "metadata": {},
     "output_type": "execute_result"
    }
   ],
   "source": [
    "s.dtype"
   ]
  },
  {
   "cell_type": "code",
   "execution_count": 45,
   "metadata": {},
   "outputs": [
    {
     "data": {
      "text/plain": [
       "pandas.core.series.Series"
      ]
     },
     "execution_count": 45,
     "metadata": {},
     "output_type": "execute_result"
    }
   ],
   "source": [
    "type(s)"
   ]
  },
  {
   "cell_type": "code",
   "execution_count": 48,
   "metadata": {},
   "outputs": [
    {
     "data": {
      "text/plain": [
       "a    1.1\n",
       "b    1.2\n",
       "c    1.3\n",
       "d    1.4\n",
       "e    1.5\n",
       "dtype: float64"
      ]
     },
     "execution_count": 48,
     "metadata": {},
     "output_type": "execute_result"
    }
   ],
   "source": [
    "s = pd.Series(data=[1.1, 1.2, 1.3, 1.4, 1.5], index=[\"a\", \"b\", \"c\", \"d\", \"e\"])\n",
    "s"
   ]
  },
  {
   "cell_type": "code",
   "execution_count": 49,
   "metadata": {},
   "outputs": [
    {
     "data": {
      "text/plain": [
       "1.1"
      ]
     },
     "execution_count": 49,
     "metadata": {},
     "output_type": "execute_result"
    }
   ],
   "source": [
    "s[\"a\"]"
   ]
  },
  {
   "cell_type": "code",
   "execution_count": 50,
   "metadata": {},
   "outputs": [
    {
     "data": {
      "text/plain": [
       "True"
      ]
     },
     "execution_count": 50,
     "metadata": {},
     "output_type": "execute_result"
    }
   ],
   "source": [
    "\"a\" in s"
   ]
  },
  {
   "cell_type": "markdown",
   "metadata": {},
   "source": [
    "#### 2. Series calculation"
   ]
  },
  {
   "cell_type": "code",
   "execution_count": 80,
   "metadata": {
    "scrolled": false
   },
   "outputs": [
    {
     "name": "stdout",
     "output_type": "stream",
     "text": [
      "a    3.1\n",
      "b    3.2\n",
      "c    3.3\n",
      "d    3.4\n",
      "e    3.5\n",
      "dtype: float64\n",
      "a   -0.9\n",
      "b   -0.8\n",
      "c   -0.7\n",
      "d   -0.6\n",
      "e   -0.5\n",
      "dtype: float64\n",
      "a    2.2\n",
      "b    2.4\n",
      "c    2.6\n",
      "d    2.8\n",
      "e    3.0\n",
      "dtype: float64\n",
      "a    0.55\n",
      "b    0.60\n",
      "c    0.65\n",
      "d    0.70\n",
      "e    0.75\n",
      "dtype: float64\n"
     ]
    }
   ],
   "source": [
    "# Series and a number\n",
    "print(s + 2)\n",
    "print(s - 2)\n",
    "print(s * 2)\n",
    "print(s / 2)"
   ]
  },
  {
   "cell_type": "code",
   "execution_count": 79,
   "metadata": {
    "collapsed": true
   },
   "outputs": [
    {
     "name": "stdout",
     "output_type": "stream",
     "text": [
      "a    2.2\n",
      "b    2.4\n",
      "c    2.6\n",
      "d    2.8\n",
      "e    3.0\n",
      "dtype: float64\n",
      "\n",
      "a    0.0\n",
      "b    0.0\n",
      "c    0.0\n",
      "d    0.0\n",
      "e    0.0\n",
      "dtype: float64\n",
      "\n",
      "a    1.21\n",
      "b    1.44\n",
      "c    1.69\n",
      "d    1.96\n",
      "e    2.25\n",
      "dtype: float64\n",
      "\n",
      "a    1.0\n",
      "b    1.0\n",
      "c    1.0\n",
      "d    1.0\n",
      "e    1.0\n",
      "dtype: float64\n"
     ]
    }
   ],
   "source": [
    "# Two or more Series, same size\n",
    "## alsways mapped by index key\n",
    "print(s + s)\n",
    "print()\n",
    "print(s - s)\n",
    "print()\n",
    "print(s * s)\n",
    "print()\n",
    "print(s / s)"
   ]
  },
  {
   "cell_type": "code",
   "execution_count": 74,
   "metadata": {},
   "outputs": [],
   "source": [
    "# Two or more Series, different size\n",
    "## alsways mapped by index key\n",
    "s4 = pd.Series(data=[1.1, 1.2, 1.3, 1.4])\n",
    "s3 = pd.Series(data=[1.1, 1.2, 1.3])\n",
    "s2 = pd.Series(data=[1.1, 1.2])\n",
    "s1 = pd.Series(data=[1.1])"
   ]
  },
  {
   "cell_type": "code",
   "execution_count": 75,
   "metadata": {
    "collapsed": true
   },
   "outputs": [
    {
     "name": "stdout",
     "output_type": "stream",
     "text": [
      "0    2.2\n",
      "1    2.4\n",
      "2    2.6\n",
      "3    NaN\n",
      "dtype: float64\n",
      "0    2.2\n",
      "1    2.4\n",
      "2    NaN\n",
      "3    NaN\n",
      "dtype: float64\n",
      "0    2.2\n",
      "1    NaN\n",
      "2    NaN\n",
      "3    NaN\n",
      "dtype: float64\n"
     ]
    }
   ],
   "source": [
    "print(s4 + s3)\n",
    "print(s4 + s2)\n",
    "print(s4 + s1)"
   ]
  },
  {
   "cell_type": "code",
   "execution_count": 76,
   "metadata": {
    "collapsed": true
   },
   "outputs": [
    {
     "name": "stdout",
     "output_type": "stream",
     "text": [
      "0    1.21\n",
      "1    1.44\n",
      "2    1.69\n",
      "3     NaN\n",
      "dtype: float64\n",
      "0    1.21\n",
      "1    1.44\n",
      "2     NaN\n",
      "3     NaN\n",
      "dtype: float64\n",
      "0    1.21\n",
      "1     NaN\n",
      "2     NaN\n",
      "3     NaN\n",
      "dtype: float64\n"
     ]
    }
   ],
   "source": [
    "print(s4 * s3)\n",
    "print(s4 * s2)\n",
    "print(s4 * s1)"
   ]
  },
  {
   "cell_type": "code",
   "execution_count": 77,
   "metadata": {
    "collapsed": true
   },
   "outputs": [
    {
     "name": "stdout",
     "output_type": "stream",
     "text": [
      "0    1.0\n",
      "1    1.0\n",
      "2    1.0\n",
      "3    NaN\n",
      "dtype: float64\n",
      "0    1.0\n",
      "1    1.0\n",
      "2    NaN\n",
      "3    NaN\n",
      "dtype: float64\n",
      "0    1.0\n",
      "1    NaN\n",
      "2    NaN\n",
      "3    NaN\n",
      "dtype: float64\n"
     ]
    }
   ],
   "source": [
    "print(s4 / s3)\n",
    "print(s4 / s2)\n",
    "print(s4 / s1)"
   ]
  },
  {
   "cell_type": "code",
   "execution_count": 78,
   "metadata": {},
   "outputs": [
    {
     "data": {
      "text/plain": [
       "a    NaN\n",
       "b    2.4\n",
       "c    2.6\n",
       "d    2.8\n",
       "e    NaN\n",
       "dtype: float64"
      ]
     },
     "execution_count": 78,
     "metadata": {},
     "output_type": "execute_result"
    }
   ],
   "source": [
    "s[1:] + s[:-1]"
   ]
  },
  {
   "cell_type": "markdown",
   "metadata": {},
   "source": [
    "#### 3. Name of Series"
   ]
  },
  {
   "cell_type": "code",
   "execution_count": 82,
   "metadata": {},
   "outputs": [
    {
     "data": {
      "text/plain": [
       "0    1.1\n",
       "1    1.2\n",
       "2    1.3\n",
       "3    1.4\n",
       "4    1.5\n",
       "Name: thisIsSeriesName, dtype: float64"
      ]
     },
     "execution_count": 82,
     "metadata": {},
     "output_type": "execute_result"
    }
   ],
   "source": [
    "s = pd.Series(data=[1.1, 1.2, 1.3, 1.4, 1.5], name=\"thisIsSeriesName\")\n",
    "s"
   ]
  },
  {
   "cell_type": "code",
   "execution_count": 83,
   "metadata": {},
   "outputs": [
    {
     "data": {
      "text/plain": [
       "'thisIsSeriesName'"
      ]
     },
     "execution_count": 83,
     "metadata": {},
     "output_type": "execute_result"
    }
   ],
   "source": [
    "s.name"
   ]
  },
  {
   "cell_type": "code",
   "execution_count": 85,
   "metadata": {},
   "outputs": [
    {
     "data": {
      "text/plain": [
       "'newName'"
      ]
     },
     "execution_count": 85,
     "metadata": {},
     "output_type": "execute_result"
    }
   ],
   "source": [
    "s = s.rename(\"newName\")\n",
    "s.name"
   ]
  },
  {
   "cell_type": "markdown",
   "metadata": {},
   "source": [
    "### Q : 왜 List나 Dict 안쓰고 Series를 써야 하나요? 배우기 싫어요!\n",
    "\n",
    "- 관리가 쉽다\n",
    "- 큰 데이터를 편하게 핸들링할 수 있다\n",
    "- 인덱스가 존재해 안정적이다(+ Dict의 key보다 연산이 편하다)\n",
    "- 부가적인 연산 기능들이 존재한다(어떤 기능들은 pandas가 독보적으로 편하다)\n",
    "- 만들기 쉽다(특히 나중에 배울 DataFramen은 엑셀 등에서 불러오기 쉽다).\n",
    "- 파이썬에서 데이터를 주무르는 경우(전처리, 분석 등) 반드시 사용할 일이 생긴다"
   ]
  },
  {
   "cell_type": "code",
   "execution_count": null,
   "metadata": {},
   "outputs": [],
   "source": []
  }
 ],
 "metadata": {
  "kernelspec": {
   "display_name": "Python 3",
   "language": "python",
   "name": "python3"
  },
  "language_info": {
   "codemirror_mode": {
    "name": "ipython",
    "version": 3
   },
   "file_extension": ".py",
   "mimetype": "text/x-python",
   "name": "python",
   "nbconvert_exporter": "python",
   "pygments_lexer": "ipython3",
   "version": "3.8.5"
  }
 },
 "nbformat": 4,
 "nbformat_minor": 4
}
